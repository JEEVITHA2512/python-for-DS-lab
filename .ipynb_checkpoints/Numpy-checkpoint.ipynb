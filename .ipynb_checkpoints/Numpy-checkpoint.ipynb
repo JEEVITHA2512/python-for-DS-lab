{
 "cells": [
  {
   "cell_type": "code",
   "execution_count": 2,
   "id": "cd154986",
   "metadata": {},
   "outputs": [
    {
     "name": "stdout",
     "output_type": "stream",
     "text": [
      "a= [1 2 3]\n",
      "b= [4 5 6]\n",
      "inner product 32\n"
     ]
    }
   ],
   "source": [
    "#EXPT -02  ---- NumPy - Array and matrices\n",
    "#Numpy inner product\n",
    "import numpy as np\n",
    "a=np.array([1,2,3])\n",
    "b=np.array([4,5,6])\n",
    "print(\"a=\",a)\n",
    "print(\"b=\",b)\n",
    "print(\"inner product\",np.inner(a,b))"
   ]
  },
  {
   "cell_type": "code",
   "execution_count": 8,
   "id": "f16a0ce1",
   "metadata": {},
   "outputs": [
    {
     "name": "stdout",
     "output_type": "stream",
     "text": [
      "a [[1 3 5]\n",
      " [2 4 6]]\n",
      "a= [[1 3 5]\n",
      " [2 4 6]]\n"
     ]
    }
   ],
   "source": [
    "#matrix transpose\n",
    "import numpy as np\n",
    "a=np.array([[1,2],[3,4],[5,6]])\n",
    "print(\"a\",np.transpose(a))\n",
    "print(\"a=\",a.T)"
   ]
  },
  {
   "cell_type": "code",
   "execution_count": 11,
   "id": "5dc56d5a",
   "metadata": {},
   "outputs": [
    {
     "name": "stdout",
     "output_type": "stream",
     "text": [
      "\n",
      "Determinant 5.0\n"
     ]
    }
   ],
   "source": [
    "#matrix determinant\n",
    "a=np.array([[1,2,2],\n",
    "           [2,2,1],\n",
    "           [1,3,1]])\n",
    "det=np.linalg.det(a)\n",
    "print(\"\\nDeterminant\",np.round(det))"
   ]
  },
  {
   "cell_type": "code",
   "execution_count": 13,
   "id": "b2c51faf",
   "metadata": {},
   "outputs": [
    {
     "name": "stdout",
     "output_type": "stream",
     "text": [
      "\n",
      "Inverse [[-0.2  0.8 -0.4]\n",
      " [-0.2 -0.2  0.6]\n",
      " [ 0.8 -0.2 -0.4]]\n"
     ]
    }
   ],
   "source": [
    "#true inverse of matrix\n",
    "a=np.array([[1,2,2],\n",
    "           [2,2,1],\n",
    "           [1,3,1]])\n",
    "inv=np.linalg.inv(a)\n",
    "print(\"\\nInverse\",inv)\n"
   ]
  },
  {
   "cell_type": "code",
   "execution_count": 15,
   "id": "10c3436b",
   "metadata": {},
   "outputs": [
    {
     "name": "stdout",
     "output_type": "stream",
     "text": [
      "Eigen values [1. 5. 1.]\n",
      "Eigen vectors [[-0.90453403  0.57735027  0.14313116]\n",
      " [ 0.30151134  0.57735027 -0.49893474]\n",
      " [ 0.30151134  0.57735027  0.85473832]]\n"
     ]
    }
   ],
   "source": [
    "#eigen values and eigen vectors\n",
    "a=np.array([[2,2,1],\n",
    "           [1,3,1],\n",
    "           [1,2,2]])\n",
    "w,v=np.linalg.eig(a)\n",
    "print(\"Eigen values\",w)\n",
    "print(\"Eigen vectors\",v)"
   ]
  },
  {
   "cell_type": "code",
   "execution_count": 17,
   "id": "0d52b7ab",
   "metadata": {},
   "outputs": [
    {
     "name": "stdout",
     "output_type": "stream",
     "text": [
      "\n",
      " rank 2\n"
     ]
    }
   ],
   "source": [
    "#Rank \n",
    "a=np.arange(1,10)\n",
    "a.shape=(3,3)\n",
    "rank=np.linalg.matrix_rank(a)\n",
    "print(\"\\n rank\",rank)"
   ]
  },
  {
   "cell_type": "code",
   "execution_count": 21,
   "id": "478c98d2",
   "metadata": {},
   "outputs": [
    {
     "name": "stdout",
     "output_type": "stream",
     "text": [
      "[[21 24 27]\n",
      " [47 54 61]]\n"
     ]
    }
   ],
   "source": [
    "#numpy dot product\n",
    "c=np.matrix([[1,2],[3,4]])\n",
    "d=np.matrix([[5,6,7],[8,9,10]])\n",
    "print(np.dot(c,d))"
   ]
  },
  {
   "cell_type": "code",
   "execution_count": null,
   "id": "ded3dce0",
   "metadata": {},
   "outputs": [],
   "source": []
  }
 ],
 "metadata": {
  "kernelspec": {
   "display_name": "Python 3",
   "language": "python",
   "name": "python3"
  },
  "language_info": {
   "codemirror_mode": {
    "name": "ipython",
    "version": 3
   },
   "file_extension": ".py",
   "mimetype": "text/x-python",
   "name": "python",
   "nbconvert_exporter": "python",
   "pygments_lexer": "ipython3",
   "version": "3.9.12"
  }
 },
 "nbformat": 4,
 "nbformat_minor": 5
}
